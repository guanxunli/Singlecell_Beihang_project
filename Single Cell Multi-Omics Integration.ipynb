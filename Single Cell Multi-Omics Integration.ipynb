{
 "cells": [
  {
   "cell_type": "markdown",
   "metadata": {},
   "source": [
    "# Single Cell Multi-Omics Integration"
   ]
  },
  {
   "cell_type": "markdown",
   "metadata": {},
   "source": [
    "Many single-cell sequencing technologies are now available, but it is increasingly common to have different types of measurements performed on the same underlying system. The emerging diversity of single-cell RNA-seq datasets allows for the full transcriptional characterization of cell types across a wide variety of biological conditions. However, it is challenging to analyze them together, particularly when datasets are assayed with different technologies because biological and technical differences are interspersed.\n",
    "\n",
    "Here we will implement manifold alignment to do data integration on single-cell RNA sequence data (scRNAseq). In this case, there will be two scRNAseq data, and our purpose is to integrate them together. That will be great if you can also pair the cells in different data sets."
   ]
  },
  {
   "cell_type": "code",
   "execution_count": null,
   "metadata": {},
   "outputs": [],
   "source": [
    "####### Install necessary packages ###########\n",
    "# %pip install numpy scanpy pandas seaborn umap scikit-learn"
   ]
  },
  {
   "cell_type": "code",
   "execution_count": null,
   "metadata": {},
   "outputs": [],
   "source": [
    "import numpy as np\n",
    "import scanpy as sc\n",
    "import pandas as pd\n",
    "import seaborn as sns\n",
    "import umap\n",
    "import sklearn"
   ]
  },
  {
   "cell_type": "markdown",
   "metadata": {},
   "source": [
    "## Preprocessing"
   ]
  },
  {
   "cell_type": "markdown",
   "metadata": {},
   "source": [
    "Following pipeline based on toturial https://scanpy-tutorials.readthedocs.io/en/latest/pbmc3k.html. In this section, most of cases you only need one line code. You can skip bonus questions if you don't have time."
   ]
  },
  {
   "cell_type": "code",
   "execution_count": null,
   "metadata": {},
   "outputs": [],
   "source": [
    "## load rna_data.csv\n",
    "rna_data = sc.read_csv(\"data set/rna_data.csv\").transpose()\n",
    "# each cell is one observation\n",
    "print(rna_data.obs.index[0:5])\n",
    "# each gene is one variable\n",
    "print(rna_data.var.index[0:5])"
   ]
  },
  {
   "cell_type": "markdown",
   "metadata": {},
   "source": [
    "Do Basic filtering. For each cell, it expresses at least 100 genes. For each gene, it expresses at least in 5 cells."
   ]
  },
  {
   "cell_type": "code",
   "execution_count": null,
   "metadata": {},
   "outputs": [],
   "source": [
    "## Do Basic filtering.\n"
   ]
  },
  {
   "cell_type": "markdown",
   "metadata": {},
   "source": [
    "Use the function pp.calculate_qc_metrics to compute the fraction of mitochondrial genes and additional measures."
   ]
  },
  {
   "cell_type": "code",
   "execution_count": null,
   "metadata": {},
   "outputs": [],
   "source": [
    "## Compute the fraction of mitochondrial genes\n"
   ]
  },
  {
   "cell_type": "markdown",
   "metadata": {},
   "source": [
    "Total-count normalize (library-size correct) the data matrix X to 10,000 reads per cell, so that counts become comparable among cells."
   ]
  },
  {
   "cell_type": "code",
   "execution_count": null,
   "metadata": {},
   "outputs": [],
   "source": [
    "## Total-count normalize \n",
    "\n",
    "## Logarithmize the data.\n"
   ]
  },
  {
   "cell_type": "code",
   "execution_count": null,
   "metadata": {},
   "outputs": [],
   "source": [
    "## Identify highly-variable genes.\n",
    "\n",
    "## Scale the data to unit variance.\n"
   ]
  },
  {
   "cell_type": "markdown",
   "metadata": {},
   "source": [
    "### Principal component analysis"
   ]
  },
  {
   "cell_type": "markdown",
   "metadata": {},
   "source": [
    "Reduce the dimensionality of the data by running principal component analysis (PCA), which reveals the main axes of variation and denoises the data."
   ]
  },
  {
   "cell_type": "code",
   "execution_count": null,
   "metadata": {},
   "outputs": [],
   "source": [
    "## Running principal component analysis (PCA)\n"
   ]
  },
  {
   "cell_type": "markdown",
   "metadata": {},
   "source": [
    "**Bouns questions:** write your own PCA function."
   ]
  },
  {
   "cell_type": "code",
   "execution_count": null,
   "metadata": {},
   "outputs": [],
   "source": [
    "## This is your own PCA.\n"
   ]
  },
  {
   "cell_type": "code",
   "execution_count": null,
   "metadata": {},
   "outputs": [],
   "source": [
    "## make a scatter plot in the PCA coordinates.\n",
    "\n"
   ]
  },
  {
   "cell_type": "markdown",
   "metadata": {},
   "source": [
    "### Computing the neighborhood graph"
   ]
  },
  {
   "cell_type": "markdown",
   "metadata": {},
   "source": [
    "Let us compute the neighborhood graph of cells using the PCA representation of the data matrix."
   ]
  },
  {
   "cell_type": "code",
   "execution_count": null,
   "metadata": {},
   "outputs": [],
   "source": [
    "## compute the neighborhood graph\n"
   ]
  },
  {
   "cell_type": "markdown",
   "metadata": {},
   "source": [
    "### Embedding the neighborhood graph "
   ]
  },
  {
   "cell_type": "markdown",
   "metadata": {},
   "source": [
    "We advertise embedding the graph in 2 dimensions using UMAP. "
   ]
  },
  {
   "cell_type": "code",
   "execution_count": null,
   "metadata": {},
   "outputs": [],
   "source": [
    "## Run UMAP\n",
    "\n",
    "## Plot your results.\n"
   ]
  },
  {
   "cell_type": "markdown",
   "metadata": {},
   "source": [
    "### Clustering the neighborhood graph"
   ]
  },
  {
   "cell_type": "markdown",
   "metadata": {},
   "source": [
    "Here we recommend the Leiden graph-clustering method (community detection based on optimizing modularity). Note that Leiden clustering directly clusters the neighborhood graph of cells, which we already computed in the previous section."
   ]
  },
  {
   "cell_type": "code",
   "execution_count": null,
   "metadata": {},
   "outputs": [],
   "source": [
    "## Do cluster\n",
    "\n",
    "## Plot the clusters\n"
   ]
  },
  {
   "cell_type": "markdown",
   "metadata": {},
   "source": [
    "**Bouns questions:** Try basic cluster method, for example, k-means and hierarchical cluster."
   ]
  },
  {
   "cell_type": "code",
   "execution_count": null,
   "metadata": {},
   "outputs": [],
   "source": [
    "## k-means\n",
    "\n",
    "## hierarchical cluster.\n"
   ]
  },
  {
   "cell_type": "markdown",
   "metadata": {},
   "source": [
    "### Go through pipeline for another dataset"
   ]
  },
  {
   "cell_type": "code",
   "execution_count": null,
   "metadata": {},
   "outputs": [],
   "source": [
    "## load atac_data.csv\n",
    "atac_data = sc.read_csv(\"data set/atac_data.csv\").transpose()\n",
    "# each cell is one observation\n",
    "print(atac_data.obs.index[0:5])\n",
    "# each gene is one variable\n",
    "print(atac_data.var.index[0:5])\n",
    "\n",
    "## Do Basic filtering.\n",
    "\n",
    "## Compute the fraction of mitochondrial genes\n",
    "\n",
    "## Total-count normalize \n",
    "\n",
    "## Logarithmize the data.\n",
    "\n",
    "## Identify highly-variable genes.\n",
    "\n",
    "## Scale the data to unit variance.\n",
    "\n",
    "## Running principal component analysis (PCA)\n",
    "\n",
    "## compute the neighborhood graph\n",
    "\n",
    "## Run UMAP\n",
    "\n",
    "## Plot your results.\n",
    "\n",
    "## Do cluster\n",
    "\n",
    "## Plot the clusters\n"
   ]
  },
  {
   "cell_type": "markdown",
   "metadata": {},
   "source": [
    "### Directly assmblely"
   ]
  },
  {
   "cell_type": "markdown",
   "metadata": {},
   "source": [
    "Combine two datasets directly and go through the above pipeline. In this case, you don't need to do cluster but when doing plots labeled by data set."
   ]
  },
  {
   "cell_type": "code",
   "execution_count": null,
   "metadata": {},
   "outputs": [],
   "source": [
    "## load your data\n",
    "sc_data = sc.read_csv(\"your own csv combined two csv file\").transpose()\n",
    "\n",
    "## Do Basic filtering.\n",
    "\n",
    "## Compute the fraction of mitochondrial genes\n",
    "\n",
    "## Total-count normalize \n",
    "\n",
    "## Logarithmize the data.\n",
    "\n",
    "## Identify highly-variable genes.\n",
    "\n",
    "## Scale the data to unit variance.\n",
    "\n",
    "## Running principal component analysis (PCA)\n",
    "\n",
    "## compute the neighborhood graph\n",
    "\n",
    "## Run UMAP\n",
    "\n",
    "## Plot your results. Labeled by data set.\n"
   ]
  },
  {
   "cell_type": "markdown",
   "metadata": {},
   "source": [
    "## Supervised general manifold alignment "
   ]
  },
  {
   "cell_type": "markdown",
   "metadata": {},
   "source": [
    "In this case we know cells are paired one to one. Implentment https://www.aaai.org/ocs/index.php/AAAI/AAAI12/paper/viewFile/4903/5535 method."
   ]
  },
  {
   "cell_type": "code",
   "execution_count": null,
   "metadata": {},
   "outputs": [],
   "source": [
    "## Supervised general manifold alignment function.\n"
   ]
  },
  {
   "cell_type": "markdown",
   "metadata": {},
   "source": [
    "## Manifold Alignment without Correspondence"
   ]
  },
  {
   "cell_type": "markdown",
   "metadata": {},
   "source": [
    "Suppose we don't know paired cells. implement https://www.ijcai.org/Proceedings/09/Papers/214.pdf method."
   ]
  },
  {
   "cell_type": "code",
   "execution_count": null,
   "metadata": {},
   "outputs": [],
   "source": [
    "## Manifold Alignment without Correspondence function.\n"
   ]
  },
  {
   "cell_type": "markdown",
   "metadata": {},
   "source": [
    "## Generalized Unsupervised Manifold Alignment"
   ]
  },
  {
   "cell_type": "markdown",
   "metadata": {},
   "source": [
    "implement https://papers.nips.cc/paper/5620-geeralized-unsupervised-manifold-alignment.pdf method."
   ]
  },
  {
   "cell_type": "code",
   "execution_count": null,
   "metadata": {},
   "outputs": [],
   "source": [
    "## Generalized Unsupervised Manifold Alignment function.\n"
   ]
  },
  {
   "cell_type": "markdown",
   "metadata": {},
   "source": [
    "## Bouns question: Unsupervised Topological Alignment for Single-Cell Multi-Omics Integration "
   ]
  },
  {
   "cell_type": "markdown",
   "metadata": {},
   "source": [
    "implement https://www.biorxiv.org/content/10.1101/2020.02.02.931394v2.full method."
   ]
  },
  {
   "cell_type": "code",
   "execution_count": null,
   "metadata": {},
   "outputs": [],
   "source": [
    "## Unsupervised Topological Alignment for Single-Cell Multi-Omics Integration function.\n"
   ]
  },
  {
   "cell_type": "markdown",
   "metadata": {},
   "source": [
    "## Check alignment method"
   ]
  },
  {
   "cell_type": "markdown",
   "metadata": {},
   "source": [
    "Please implement above three methods on our data set “rna_data” and “atac_data”. After getting aligned dataset, going through the same pipeline as in section “Directly assembly”, check whether your method works not not."
   ]
  },
  {
   "cell_type": "code",
   "execution_count": null,
   "metadata": {},
   "outputs": [],
   "source": []
  }
 ],
 "metadata": {
  "kernelspec": {
   "display_name": "Python 3",
   "language": "python",
   "name": "python3"
  },
  "language_info": {
   "codemirror_mode": {
    "name": "ipython",
    "version": 3
   },
   "file_extension": ".py",
   "mimetype": "text/x-python",
   "name": "python",
   "nbconvert_exporter": "python",
   "pygments_lexer": "ipython3",
   "version": "3.6.10"
  }
 },
 "nbformat": 4,
 "nbformat_minor": 4
}
